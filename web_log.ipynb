{
 "cells": [
  {
   "cell_type": "code",
   "execution_count": 1,
   "metadata": {
    "collapsed": false
   },
   "outputs": [],
   "source": [
    "webraw = sc.textFile(\"data\")"
   ]
  },
  {
   "cell_type": "code",
   "execution_count": 2,
   "metadata": {
    "collapsed": false
   },
   "outputs": [],
   "source": [
    "# parsing fields with regex\n",
    "import re\n",
    "\n",
    "pattern = \"([^\\\"]\\S*|\\\".+?\\\")\\s*\"\n",
    "web = webraw.map(lambda x: re.findall(pattern, x))\n",
    "\n",
    "web_valid = web.filter(lambda x: len(x) == 15)"
   ]
  },
  {
   "cell_type": "code",
   "execution_count": 3,
   "metadata": {
    "collapsed": false
   },
   "outputs": [
    {
     "name": "stdout",
     "output_type": "stream",
     "text": [
      "Successully parsed logs 1158473 out of 1158500\n"
     ]
    }
   ],
   "source": [
    "print \"Successully parsed logs %d out of %d\" % (web_valid.count(), web.count())"
   ]
  },
  {
   "cell_type": "code",
   "execution_count": 3,
   "metadata": {
    "collapsed": false
   },
   "outputs": [
    {
     "data": {
      "text/plain": [
       "[u'2015-07-22T09:00:28.019143Z',\n",
       " u'marketpalce-shop',\n",
       " u'123.242.248.130:54635',\n",
       " u'10.0.6.158:80',\n",
       " u'0.000022',\n",
       " u'0.026109',\n",
       " u'0.00002',\n",
       " u'200',\n",
       " u'200',\n",
       " u'0',\n",
       " u'699',\n",
       " u'\"GET https://paytm.com:443/shop/authresponse?code=f2405b05-e2ee-4b0d-8f6a-9fed0fcfe2e0&state=null HTTP/1.1\"',\n",
       " u'\"Mozilla/5.0 (Windows NT 6.1; WOW64) AppleWebKit/537.36 (KHTML, like Gecko) Chrome/43.0.2357.130 Safari/537.36\"',\n",
       " u'ECDHE-RSA-AES128-GCM-SHA256',\n",
       " u'TLSv1.2']"
      ]
     },
     "execution_count": 3,
     "metadata": {},
     "output_type": "execute_result"
    }
   ],
   "source": [
    "web_valid.first()"
   ]
  },
  {
   "cell_type": "code",
   "execution_count": 9,
   "metadata": {
    "collapsed": true
   },
   "outputs": [],
   "source": [
    "from datetime import datetime\n",
    "\n",
    "# requires time_str1 > time_str2\n",
    "def time_difference_mins(time_str1, time_str2):\n",
    "    return (datetime.strptime(time_str1, '%Y-%m-%dT%H:%M:%S.%fZ') -\n",
    "            datetime.strptime(time_str2, '%Y-%m-%dT%H:%M:%S.%fZ')).seconds /60.0\n",
    "\n",
    "# sesseionization by iterating through logs sorted by time\n",
    "# sessionized logs have an int field appended, denoting the session number\n",
    "def sessionize(logs, session_mins=30):\n",
    "    logs.sort(key=lambda x: x[0])\n",
    "    last_session_time = logs[0][0]\n",
    "    current_session = 0\n",
    "    for log in logs:\n",
    "        if time_difference_mins(log[0], last_session_time) > session_mins:\n",
    "            current_session += 1\n",
    "        last_session_time = log[0]\n",
    "        log.append(current_session)\n",
    "    return logs\n"
   ]
  },
  {
   "cell_type": "code",
   "execution_count": 10,
   "metadata": {
    "collapsed": false
   },
   "outputs": [],
   "source": [
    "# sessionized logs per IP address\n",
    "logs_per_ip = web_valid.groupBy(lambda x:x[2].split(':')[0]).map(lambda x: (x[0], sessionize(list(x[1]))))"
   ]
  },
  {
   "cell_type": "code",
   "execution_count": 11,
   "metadata": {
    "collapsed": true
   },
   "outputs": [],
   "source": [
    "# calculate the session time for each session, then return the average\n",
    "def average_session_time(logs):\n",
    "    # get all session numbers\n",
    "    sessions = set([i[-1] for i in logs])\n",
    "    session_times = []\n",
    "    for session in sessions:\n",
    "        this_session = [i for i in logs if i[-1] == session]\n",
    "        session_times.append(time_difference_mins(this_session[-1][0], this_session[0][0]))\n",
    "    return sum(session_times)/len(session_times)"
   ]
  },
  {
   "cell_type": "code",
   "execution_count": 12,
   "metadata": {
    "collapsed": false,
    "scrolled": false
   },
   "outputs": [],
   "source": [
    "session_time_per_ip = logs_per_ip.map(lambda x: (x[0], average_session_time(x[1])))"
   ]
  },
  {
   "cell_type": "code",
   "execution_count": 53,
   "metadata": {
    "collapsed": false
   },
   "outputs": [
    {
     "data": {
      "text/plain": [
       "[(u'14.195.29.144', 0.9333333333333333),\n",
       " (u'49.204.102.63', 0.5166666666666667),\n",
       " (u'14.96.97.101', 0.7333333333333333),\n",
       " (u'106.221.131.75', 0.0),\n",
       " (u'101.61.118.87', 0.0),\n",
       " (u'112.110.12.156', 0.06666666666666667),\n",
       " (u'122.176.115.129', 7.716666666666667),\n",
       " (u'117.198.176.102', 0.1),\n",
       " (u'49.238.53.122', 0.06666666666666667),\n",
       " (u'223.227.45.25', 0.03333333333333333)]"
      ]
     },
     "execution_count": 53,
     "metadata": {},
     "output_type": "execute_result"
    }
   ],
   "source": [
    "session_time_per_ip.take(10)"
   ]
  },
  {
   "cell_type": "code",
   "execution_count": 54,
   "metadata": {
    "collapsed": false,
    "scrolled": true
   },
   "outputs": [
    {
     "data": {
      "text/plain": [
       "[(u'103.29.159.138', 34.416666666666664),\n",
       " (u'125.16.218.194', 34.4),\n",
       " (u'14.99.226.79', 34.36666666666667),\n",
       " (u'117.217.94.18', 34.35),\n",
       " (u'122.169.141.4', 34.333333333333336),\n",
       " (u'117.218.61.172', 34.333333333333336),\n",
       " (u'180.151.32.147', 34.333333333333336),\n",
       " (u'59.97.160.225', 34.31666666666667),\n",
       " (u'223.182.246.141', 34.31666666666667),\n",
       " (u'59.91.252.41', 34.31666666666667)]"
      ]
     },
     "execution_count": 54,
     "metadata": {},
     "output_type": "execute_result"
    }
   ],
   "source": [
    "# top 10 most engaged users\n",
    "session_time_per_ip.sortBy(lambda x: -x[1]).take(10)"
   ]
  },
  {
   "cell_type": "code",
   "execution_count": 13,
   "metadata": {
    "collapsed": false
   },
   "outputs": [],
   "source": [
    "def get_unique_urls(logs):\n",
    "    return set([(log[-1], log[11].split(' ')[1]) for log in logs])"
   ]
  },
  {
   "cell_type": "code",
   "execution_count": 15,
   "metadata": {
    "collapsed": false
   },
   "outputs": [],
   "source": [
    "# unique URL's visited per session, per IP address\n",
    "unique_urls = logs_per_ip.map(lambda x: (x[0], get_unique_urls(x[1])))"
   ]
  },
  {
   "cell_type": "code",
   "execution_count": 18,
   "metadata": {
    "collapsed": false
   },
   "outputs": [
    {
     "data": {
      "text/plain": [
       "(u'14.195.29.144',\n",
       " {(0, u'https://paytm.com:443/shop/cart'),\n",
       "  (0, u'https://paytm.com:443/shop/h/baby-kids-toys/baby-care-maternity'),\n",
       "  (0, u'https://paytm.com:443/shop/log')})"
      ]
     },
     "execution_count": 18,
     "metadata": {},
     "output_type": "execute_result"
    }
   ],
   "source": [
    "# taking the user 125.16.218.194 as an example\n",
    "unique_urls.filter(lambda x : x[0] == '14.195.29.144').first()"
   ]
  }
 ],
 "metadata": {
  "kernelspec": {
   "display_name": "Python 2",
   "language": "python",
   "name": "python2"
  },
  "language_info": {
   "codemirror_mode": {
    "name": "ipython",
    "version": 2
   },
   "file_extension": ".py",
   "mimetype": "text/x-python",
   "name": "python",
   "nbconvert_exporter": "python",
   "pygments_lexer": "ipython2",
   "version": "2.7.10"
  }
 },
 "nbformat": 4,
 "nbformat_minor": 0
}
